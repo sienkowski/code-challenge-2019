{
 "cells": [
  {
   "cell_type": "code",
   "execution_count": 177,
   "metadata": {},
   "outputs": [],
   "source": [
    "import pandas as pd\n",
    "import numpy as np\n",
    "import matplotlib.pyplot as plt\n",
    "\n",
    "from sklearn.base import BaseEstimator, TransformerMixin\n",
    "\n",
    "import re\n",
    "from sklearn.externals import joblib\n",
    "\n",
    "from sklearn.model_selection import train_test_split\n",
    "from sklearn.preprocessing import StandardScaler\n",
    "from sklearn.feature_extraction.text import TfidfVectorizer\n",
    "from sklearn.feature_extraction.text import CountVectorizer\n",
    "from sklearn.pipeline import Pipeline, FeatureUnion\n",
    "\n",
    "from sklearn.linear_model import SGDClassifier\n",
    "from sklearn.naive_bayes import GaussianNB\n",
    "from sklearn.ensemble import RandomForestClassifier, AdaBoostClassifier,GradientBoostingClassifier\n",
    "from sklearn.svm import SVC, LinearSVC, NuSVC\n",
    "from sklearn.neighbors import KNeighborsClassifier\n",
    "from sklearn.linear_model import LogisticRegression\n",
    "\n",
    "from sklearn.model_selection import GridSearchCV\n",
    "from sklearn.metrics import accuracy_score, precision_score, recall_score, f1_score,classification_report, confusion_matrix\n",
    "\n",
    "import nltk\n",
    "from nltk.corpus import stopwords\n",
    "\n",
    "\n",
    "import warnings\n",
    "%matplotlib inline\n",
    "\n",
    "warnings.filterwarnings('ignore');"
   ]
  },
  {
   "cell_type": "code",
   "execution_count": 178,
   "metadata": {},
   "outputs": [],
   "source": [
    "datatypes = {\n",
    "    \"Unnamed: 0\":\"int64\",\n",
    "    \"country\":\"object\",\n",
    "    \"description\":\"object\",\n",
    "    \"designation\":\"object\",\n",
    "    \"points\":\"int64\",\n",
    "    \"price\":\"float64\",\n",
    "    \"province\":\"object\",\n",
    "    \"region_1\":\"object\",\n",
    "    \"region_2\":\"object\",\n",
    "    \"taster_name\":\"object\",\n",
    "    \"taster_twitter_handle\":\"object\",\n",
    "    \"title\":\"object\",\n",
    "    \"variety\":\"object\",\n",
    "    \"winery\":\"object\"\n",
    "}"
   ]
  },
  {
   "cell_type": "code",
   "execution_count": 179,
   "metadata": {},
   "outputs": [],
   "source": [
    "df = pd.read_csv('../data_root/raw/wine_dataset.csv',dtype=datatypes)"
   ]
  },
  {
   "cell_type": "markdown",
   "metadata": {},
   "source": [
    "## Utilities functions"
   ]
  },
  {
   "cell_type": "code",
   "execution_count": 180,
   "metadata": {},
   "outputs": [],
   "source": [
    "stopWords = set(stopwords.words('english'))\n",
    "\n",
    "def dependent_column_to_categorical(df,column):\n",
    "    '''\n",
    "    https://www.wine-searcher.com/wine-scores\n",
    "    '''\n",
    "    if (df[column] >= 80) & (df[column] <= 84):\n",
    "        return \"Good\"\n",
    "    elif (df[column] >= 85) & (df[column] <= 89):\n",
    "        return \"Very good\"\n",
    "    elif (df[column] >= 90) & (df[column] <= 94):\n",
    "        return \"Outstanding\"\n",
    "    elif (df[column] >= 95) & (df[column] <= 100):\n",
    "        return \"Classic\"\n",
    "    \n",
    "def processing(df,col):\n",
    "    '''Chain of transformations for initially processing dataframe\n",
    "    \n",
    "        1. Change dependent variable to categorical\n",
    "        \n",
    "        2. Convert description column to lowercase and remove punctuations\n",
    "        \n",
    "        3. Get total length of sentences from 2\n",
    "        \n",
    "        4. Get total number of words\n",
    "        \n",
    "        5. Get total number of non-stop words\n",
    "        \n",
    "        6. Get the average word length\n",
    "        \n",
    "       Parameters\n",
    "       ----------\n",
    "       df: dataframe on which transformation is done\n",
    "       \n",
    "       col: The independent column. In our case, a column with text\n",
    "    '''\n",
    "    if df['points'].dtype == 'int64':\n",
    "        df[\"points\"] = df.apply(lambda df:dependent_column_to_categorical(df,\"points\"),\n",
    "                                          axis = 1)\n",
    "\n",
    "    df[f'{col}_processed'] = df[col].apply(lambda x: re.sub(r'[^\\w\\s]','', x.lower()))\n",
    "    \n",
    "    df['length'] = df[f'{col}_processed'].apply(lambda x: len(x))\n",
    "    \n",
    "    df['words'] = df[f'{col}_processed'].apply(lambda x: len(x.split(' ')))\n",
    "    \n",
    "    df['words_not_stopword'] = df[f'{col}_processed'].apply(lambda x: len([t for t in x.split(' ') if t not in stopWords]))\n",
    "    \n",
    "    df['avg_word_length'] = df[f'{col}_processed'].apply(lambda x: np.mean([len(t) for t in x.split(' ') if t not in stopWords]) if len([len(t) for t in x.split(' ') if t not in stopWords]) > 0 else 0)\n",
    "    \n",
    "    return(df)\n",
    "\n",
    "\n",
    "class TextSelector(BaseEstimator, TransformerMixin):\n",
    "    \"\"\"Transformer to select a single column from the data frame to perform additional transformations on\n",
    "    Use on text columns in the data\n",
    "    \n",
    "    Parameters\n",
    "    ---------\n",
    "    key: Name of text column on which transformation is done\n",
    "    \"\"\"\n",
    "    def __init__(self, key):\n",
    "        self.key = key\n",
    "\n",
    "    def fit(self, X, y=None):\n",
    "        return self\n",
    "\n",
    "    def transform(self, X):\n",
    "        return X[self.key]\n",
    "\n",
    "    \n",
    "class NumberSelector(BaseEstimator, TransformerMixin):\n",
    "    \"\"\"Transformer to select a single column from the data frame to perform additional transformations on\n",
    "    Use on numeric columns in the data\n",
    "    \n",
    "    Parameters\n",
    "    ---------\n",
    "    key: Name of numeric column on which transformation is done\n",
    "    \"\"\"\n",
    "    def __init__(self, key):\n",
    "        self.key = key\n",
    "\n",
    "    def fit(self, X, y=None):\n",
    "        return self\n",
    "\n",
    "    def transform(self, X):\n",
    "        return X[[self.key]]\n",
    "    "
   ]
  },
  {
   "cell_type": "code",
   "execution_count": 181,
   "metadata": {},
   "outputs": [
    {
     "data": {
      "text/html": [
       "<div>\n",
       "<style scoped>\n",
       "    .dataframe tbody tr th:only-of-type {\n",
       "        vertical-align: middle;\n",
       "    }\n",
       "\n",
       "    .dataframe tbody tr th {\n",
       "        vertical-align: top;\n",
       "    }\n",
       "\n",
       "    .dataframe thead th {\n",
       "        text-align: right;\n",
       "    }\n",
       "</style>\n",
       "<table border=\"1\" class=\"dataframe\">\n",
       "  <thead>\n",
       "    <tr style=\"text-align: right;\">\n",
       "      <th></th>\n",
       "      <th>description</th>\n",
       "      <th>points</th>\n",
       "    </tr>\n",
       "  </thead>\n",
       "  <tbody>\n",
       "    <tr>\n",
       "      <th>0</th>\n",
       "      <td>Fragrances suggest hay, crushed tomato vine an...</td>\n",
       "      <td>90</td>\n",
       "    </tr>\n",
       "    <tr>\n",
       "      <th>1</th>\n",
       "      <td>Packed with fruit and crisp acidity, this is a...</td>\n",
       "      <td>87</td>\n",
       "    </tr>\n",
       "  </tbody>\n",
       "</table>\n",
       "</div>"
      ],
      "text/plain": [
       "                                         description  points\n",
       "0  Fragrances suggest hay, crushed tomato vine an...      90\n",
       "1  Packed with fruit and crisp acidity, this is a...      87"
      ]
     },
     "execution_count": 181,
     "metadata": {},
     "output_type": "execute_result"
    }
   ],
   "source": [
    "df_keep = df[['description','points']].loc[:]\n",
    "\n",
    "df_keep.head(2)"
   ]
  },
  {
   "cell_type": "code",
   "execution_count": 182,
   "metadata": {},
   "outputs": [
    {
     "data": {
      "text/html": [
       "<div>\n",
       "<style scoped>\n",
       "    .dataframe tbody tr th:only-of-type {\n",
       "        vertical-align: middle;\n",
       "    }\n",
       "\n",
       "    .dataframe tbody tr th {\n",
       "        vertical-align: top;\n",
       "    }\n",
       "\n",
       "    .dataframe thead th {\n",
       "        text-align: right;\n",
       "    }\n",
       "</style>\n",
       "<table border=\"1\" class=\"dataframe\">\n",
       "  <thead>\n",
       "    <tr style=\"text-align: right;\">\n",
       "      <th></th>\n",
       "      <th>description</th>\n",
       "      <th>points</th>\n",
       "      <th>description_processed</th>\n",
       "      <th>length</th>\n",
       "      <th>words</th>\n",
       "      <th>words_not_stopword</th>\n",
       "      <th>avg_word_length</th>\n",
       "    </tr>\n",
       "  </thead>\n",
       "  <tbody>\n",
       "    <tr>\n",
       "      <th>0</th>\n",
       "      <td>Fragrances suggest hay, crushed tomato vine an...</td>\n",
       "      <td>Outstanding</td>\n",
       "      <td>fragrances suggest hay crushed tomato vine and...</td>\n",
       "      <td>215</td>\n",
       "      <td>31</td>\n",
       "      <td>25</td>\n",
       "      <td>6.640000</td>\n",
       "    </tr>\n",
       "    <tr>\n",
       "      <th>1</th>\n",
       "      <td>Packed with fruit and crisp acidity, this is a...</td>\n",
       "      <td>Very good</td>\n",
       "      <td>packed with fruit and crisp acidity this is a ...</td>\n",
       "      <td>168</td>\n",
       "      <td>30</td>\n",
       "      <td>18</td>\n",
       "      <td>5.944444</td>\n",
       "    </tr>\n",
       "  </tbody>\n",
       "</table>\n",
       "</div>"
      ],
      "text/plain": [
       "                                         description       points  \\\n",
       "0  Fragrances suggest hay, crushed tomato vine an...  Outstanding   \n",
       "1  Packed with fruit and crisp acidity, this is a...    Very good   \n",
       "\n",
       "                               description_processed  length  words  \\\n",
       "0  fragrances suggest hay crushed tomato vine and...     215     31   \n",
       "1  packed with fruit and crisp acidity this is a ...     168     30   \n",
       "\n",
       "   words_not_stopword  avg_word_length  \n",
       "0                  25         6.640000  \n",
       "1                  18         5.944444  "
      ]
     },
     "execution_count": 182,
     "metadata": {},
     "output_type": "execute_result"
    }
   ],
   "source": [
    "df_keep = processing(df_keep,col=\"description\")\n",
    "\n",
    "df_keep.head(2)"
   ]
  },
  {
   "cell_type": "code",
   "execution_count": 183,
   "metadata": {},
   "outputs": [],
   "source": [
    "dependent = 'points'\n",
    "\n",
    "engineered_features = [f for f in df_keep.columns.values if f not in ['description','points']]\n",
    "numeric_features = [numeric for numeric in df_keep.columns.values if numeric not in ['description','points','description_processed']]"
   ]
  },
  {
   "cell_type": "code",
   "execution_count": 184,
   "metadata": {},
   "outputs": [
    {
     "data": {
      "text/html": [
       "<div>\n",
       "<style scoped>\n",
       "    .dataframe tbody tr th:only-of-type {\n",
       "        vertical-align: middle;\n",
       "    }\n",
       "\n",
       "    .dataframe tbody tr th {\n",
       "        vertical-align: top;\n",
       "    }\n",
       "\n",
       "    .dataframe thead th {\n",
       "        text-align: right;\n",
       "    }\n",
       "</style>\n",
       "<table border=\"1\" class=\"dataframe\">\n",
       "  <thead>\n",
       "    <tr style=\"text-align: right;\">\n",
       "      <th></th>\n",
       "      <th>description_processed</th>\n",
       "      <th>length</th>\n",
       "      <th>words</th>\n",
       "      <th>words_not_stopword</th>\n",
       "      <th>avg_word_length</th>\n",
       "    </tr>\n",
       "  </thead>\n",
       "  <tbody>\n",
       "    <tr>\n",
       "      <th>9254</th>\n",
       "      <td>this opens with aromas of wet leaves forest fl...</td>\n",
       "      <td>235</td>\n",
       "      <td>40</td>\n",
       "      <td>27</td>\n",
       "      <td>5.962963</td>\n",
       "    </tr>\n",
       "    <tr>\n",
       "      <th>1561</th>\n",
       "      <td>there is no lack of dark smoky flavors in this...</td>\n",
       "      <td>329</td>\n",
       "      <td>60</td>\n",
       "      <td>33</td>\n",
       "      <td>5.727273</td>\n",
       "    </tr>\n",
       "  </tbody>\n",
       "</table>\n",
       "</div>"
      ],
      "text/plain": [
       "                                  description_processed  length  words  \\\n",
       "9254  this opens with aromas of wet leaves forest fl...     235     40   \n",
       "1561  there is no lack of dark smoky flavors in this...     329     60   \n",
       "\n",
       "      words_not_stopword  avg_word_length  \n",
       "9254                  27         5.962963  \n",
       "1561                  33         5.727273  "
      ]
     },
     "execution_count": 184,
     "metadata": {},
     "output_type": "execute_result"
    }
   ],
   "source": [
    "X_train, X_test, y_train, y_test = train_test_split(df_keep[engineered_features], df_keep[dependent], test_size=0.2, random_state=42)\n",
    "X_train.head(2)"
   ]
  },
  {
   "cell_type": "markdown",
   "metadata": {},
   "source": [
    "## Let's create scikit-learn pipelines for each columns"
   ]
  },
  {
   "cell_type": "code",
   "execution_count": 185,
   "metadata": {},
   "outputs": [
    {
     "data": {
      "text/plain": [
       "<8000x12486 sparse matrix of type '<class 'numpy.float64'>'\n",
       "\twith 186516 stored elements in Compressed Sparse Row format>"
      ]
     },
     "execution_count": 185,
     "metadata": {},
     "output_type": "execute_result"
    }
   ],
   "source": [
    "description = Pipeline([\n",
    "                ('selector', TextSelector(key='description_processed')),\n",
    "                ('tfidf', TfidfVectorizer( stop_words='english'))\n",
    "            ])\n",
    "\n",
    "description.fit_transform(X_train)"
   ]
  },
  {
   "cell_type": "markdown",
   "metadata": {},
   "source": [
    "### Pipeline for feature scaling all numeric columns"
   ]
  },
  {
   "cell_type": "code",
   "execution_count": 186,
   "metadata": {},
   "outputs": [],
   "source": [
    "length =  Pipeline([\n",
    "                ('selector', NumberSelector(key='length')),\n",
    "                ('standard', StandardScaler())\n",
    "            ])\n",
    "\n",
    "words =  Pipeline([\n",
    "                ('selector', NumberSelector(key='words')),\n",
    "                ('standard', StandardScaler())\n",
    "            ])\n",
    "\n",
    "words_not_stopword =  Pipeline([\n",
    "                ('selector', NumberSelector(key='words_not_stopword')),\n",
    "                ('standard', StandardScaler())\n",
    "            ])\n",
    "\n",
    "avg_word_length =  Pipeline([\n",
    "                ('selector', NumberSelector(key='avg_word_length')),\n",
    "                ('standard', StandardScaler())\n",
    "            ])"
   ]
  },
  {
   "cell_type": "markdown",
   "metadata": {},
   "source": [
    "### Let's now join all our processing pipelines"
   ]
  },
  {
   "cell_type": "code",
   "execution_count": 187,
   "metadata": {},
   "outputs": [
    {
     "data": {
      "text/plain": [
       "<8000x12490 sparse matrix of type '<class 'numpy.float64'>'\n",
       "\twith 218516 stored elements in Compressed Sparse Row format>"
      ]
     },
     "execution_count": 187,
     "metadata": {},
     "output_type": "execute_result"
    }
   ],
   "source": [
    "feats = FeatureUnion([('description', description), \n",
    "                      ('length', length),\n",
    "                      ('words', words),\n",
    "                      ('words_not_stopword', words_not_stopword),\n",
    "                      ('avg_word_length', avg_word_length)])\n",
    "\n",
    "feature_processing = Pipeline([('feats', feats)])\n",
    "feature_processing.fit_transform(X_train)"
   ]
  },
  {
   "cell_type": "markdown",
   "metadata": {},
   "source": [
    "### Time to fit some algorithms to our preprocessed pipeline and choose the best one"
   ]
  },
  {
   "cell_type": "code",
   "execution_count": 188,
   "metadata": {},
   "outputs": [
    {
     "name": "stdout",
     "output_type": "stream",
     "text": [
      "RandomForestClassifier average prediction accuracy is 0.673\n",
      "AdaBoostClassifier average prediction accuracy is 0.6125\n",
      "KNeighborsClassifier average prediction accuracy is 0.6225\n",
      "LogisticRegression average prediction accuracy is 0.7105\n",
      "SGDClassifier average prediction accuracy is 0.6915\n"
     ]
    }
   ],
   "source": [
    "classifiers = {\n",
    "    \"RandomForestClassifier\":RandomForestClassifier(n_estimators=40, min_samples_leaf=3, max_features=0.5, n_jobs=-1,random_state=42),\n",
    "    \"AdaBoostClassifier\": AdaBoostClassifier(random_state=42),\n",
    "    \"KNeighborsClassifier\": KNeighborsClassifier(),\n",
    "    \"LogisticRegression\":LogisticRegression(random_state=42),\n",
    "    \"SGDClassifier\":SGDClassifier(random_state=42)\n",
    "}\n",
    "\n",
    "\n",
    "\n",
    "\n",
    "for name,classifier in classifiers.items():\n",
    "    pipeline = Pipeline([\n",
    "    ('features',feats),\n",
    "    ('classifier', classifier),\n",
    "])\n",
    "\n",
    "    pipeline.fit(X_train, y_train)\n",
    "    \n",
    "    preds = pipeline.predict(X_test)\n",
    "    \n",
    "    print(f\"{name} average prediction accuracy is {pipeline.score(X_test,y_test)}\")\n",
    "    "
   ]
  },
  {
   "cell_type": "markdown",
   "metadata": {},
   "source": [
    "### Let's tune for LogisticRegression to find the best hyper parameters"
   ]
  },
  {
   "cell_type": "code",
   "execution_count": 189,
   "metadata": {},
   "outputs": [
    {
     "data": {
      "text/plain": [
       "0.7105"
      ]
     },
     "execution_count": 189,
     "metadata": {},
     "output_type": "execute_result"
    }
   ],
   "source": [
    "lr_pipeline = Pipeline([\n",
    "    ('features',feats),\n",
    "    ('classifier', LogisticRegression(random_state=42)),\n",
    "])\n",
    "\n",
    "lr_pipeline.fit(X_train, y_train)\n",
    "\n",
    "preds = lr_pipeline.predict(X_test)\n",
    "lr_pipeline.score(X_test,y_test)"
   ]
  },
  {
   "cell_type": "markdown",
   "metadata": {},
   "source": [
    "### We'll now use GridSearch and a 5-fold cross validation to find the optimal hyper-parameters"
   ]
  },
  {
   "cell_type": "code",
   "execution_count": 190,
   "metadata": {},
   "outputs": [
    {
     "data": {
      "text/plain": [
       "0.716"
      ]
     },
     "execution_count": 190,
     "metadata": {},
     "output_type": "execute_result"
    }
   ],
   "source": [
    "param_grid = {\n",
    "    'classifier__penalty' : ['l1', 'l2'],\n",
    "    'classifier__C' : np.logspace(-4, 4, 20),\n",
    "    'classifier__solver' : ['liblinear']\n",
    "}\n",
    "\n",
    "CV = GridSearchCV(lr_pipeline, param_grid, n_jobs=-1,cv=5)\n",
    "\n",
    "CV.fit(X_train,y_train)\n",
    "\n",
    "CV.refit\n",
    "\n",
    "preds = CV.predict(X_test)\n",
    "CV.score(X_test,y_test)"
   ]
  },
  {
   "cell_type": "markdown",
   "metadata": {},
   "source": [
    "### Serializing the model"
   ]
  },
  {
   "cell_type": "code",
   "execution_count": 191,
   "metadata": {},
   "outputs": [
    {
     "data": {
      "text/plain": [
       "['lr_model.pkl']"
      ]
     },
     "execution_count": 191,
     "metadata": {},
     "output_type": "execute_result"
    }
   ],
   "source": [
    "joblib.dump(lr_pipeline,'lr_model.pkl')"
   ]
  },
  {
   "cell_type": "markdown",
   "metadata": {},
   "source": [
    "## Evaluation of model"
   ]
  },
  {
   "cell_type": "markdown",
   "metadata": {},
   "source": [
    "#### Logistic regression report"
   ]
  },
  {
   "cell_type": "code",
   "execution_count": 192,
   "metadata": {
    "scrolled": false
   },
   "outputs": [
    {
     "data": {
      "text/html": [
       "<div>\n",
       "<style scoped>\n",
       "    .dataframe tbody tr th:only-of-type {\n",
       "        vertical-align: middle;\n",
       "    }\n",
       "\n",
       "    .dataframe tbody tr th {\n",
       "        vertical-align: top;\n",
       "    }\n",
       "\n",
       "    .dataframe thead th {\n",
       "        text-align: right;\n",
       "    }\n",
       "</style>\n",
       "<table border=\"1\" class=\"dataframe\">\n",
       "  <thead>\n",
       "    <tr style=\"text-align: right;\">\n",
       "      <th></th>\n",
       "      <th>Classic</th>\n",
       "      <th>Good</th>\n",
       "      <th>Outstanding</th>\n",
       "      <th>Very good</th>\n",
       "      <th>micro avg</th>\n",
       "      <th>macro avg</th>\n",
       "      <th>weighted avg</th>\n",
       "    </tr>\n",
       "  </thead>\n",
       "  <tbody>\n",
       "    <tr>\n",
       "      <th>f1-score</th>\n",
       "      <td>0.0</td>\n",
       "      <td>0.314516</td>\n",
       "      <td>0.728136</td>\n",
       "      <td>0.765311</td>\n",
       "      <td>0.716</td>\n",
       "      <td>0.451991</td>\n",
       "      <td>0.692183</td>\n",
       "    </tr>\n",
       "    <tr>\n",
       "      <th>precision</th>\n",
       "      <td>0.0</td>\n",
       "      <td>0.750000</td>\n",
       "      <td>0.724696</td>\n",
       "      <td>0.709196</td>\n",
       "      <td>0.716</td>\n",
       "      <td>0.545973</td>\n",
       "      <td>0.704700</td>\n",
       "    </tr>\n",
       "    <tr>\n",
       "      <th>recall</th>\n",
       "      <td>0.0</td>\n",
       "      <td>0.198980</td>\n",
       "      <td>0.731608</td>\n",
       "      <td>0.831068</td>\n",
       "      <td>0.716</td>\n",
       "      <td>0.440414</td>\n",
       "      <td>0.716000</td>\n",
       "    </tr>\n",
       "    <tr>\n",
       "      <th>support</th>\n",
       "      <td>40.0</td>\n",
       "      <td>196.000000</td>\n",
       "      <td>734.000000</td>\n",
       "      <td>1030.000000</td>\n",
       "      <td>2000.000</td>\n",
       "      <td>2000.000000</td>\n",
       "      <td>2000.000000</td>\n",
       "    </tr>\n",
       "  </tbody>\n",
       "</table>\n",
       "</div>"
      ],
      "text/plain": [
       "           Classic        Good  Outstanding    Very good  micro avg  \\\n",
       "f1-score       0.0    0.314516     0.728136     0.765311      0.716   \n",
       "precision      0.0    0.750000     0.724696     0.709196      0.716   \n",
       "recall         0.0    0.198980     0.731608     0.831068      0.716   \n",
       "support       40.0  196.000000   734.000000  1030.000000   2000.000   \n",
       "\n",
       "             macro avg  weighted avg  \n",
       "f1-score      0.451991      0.692183  \n",
       "precision     0.545973      0.704700  \n",
       "recall        0.440414      0.716000  \n",
       "support    2000.000000   2000.000000  "
      ]
     },
     "execution_count": 192,
     "metadata": {},
     "output_type": "execute_result"
    }
   ],
   "source": [
    "report_dict_lr = classification_report(y_test, preds, output_dict=True)\n",
    "report_dict_lr_df = pd.DataFrame(report_dict_lr)\n",
    "report_dict_lr_df"
   ]
  },
  {
   "cell_type": "code",
   "execution_count": 193,
   "metadata": {},
   "outputs": [
    {
     "data": {
      "image/png": "[encoded data removed]",
      "text/plain": [
       "<Figure size 720x504 with 1 Axes>"
      ]
     },
     "metadata": {
      "needs_background": "light"
     },
     "output_type": "display_data"
    }
   ],
   "source": [
    "\n",
    "fig, ax = plt.subplots(figsize=(10,7))\n",
    "\n",
    "plt.style.use(\"seaborn\")\n",
    "\n",
    "X = [\n",
    "    'RandomForestClassifier','AdaBoostClassifier','KNeighborsClassifier'\n",
    "    ,'LogisticRegression','SGDClassifier']\n",
    "\n",
    "y = [\n",
    "0.673,\n",
    "0.6125,\n",
    "0.6225,\n",
    "0.7105,\n",
    "0.6915\n",
    "]\n",
    "\n",
    "plot = plt.bar(X, y,label='Models')\n",
    "plot[3].set_color('c')\n",
    "\n",
    "plt.legend()\n",
    "\n",
    "plt.title(\"Results from models\")\n",
    "plt.xlabel(\"Model\")\n",
    "plt.ylabel(\"Score\")\n",
    "\n",
    "plt.tight_layout()\n",
    "\n",
    "plt.show()"
   ]
  },
  {
   "cell_type": "code",
   "execution_count": null,
   "metadata": {},
   "outputs": [],
   "source": []
  },
  {
   "cell_type": "code",
   "execution_count": null,
   "metadata": {},
   "outputs": [],
   "source": []
  }
 ],
 "metadata": {
  "kernelspec": {
   "display_name": "Python 3",
   "language": "python",
   "name": "python3"
  },
  "language_info": {
   "codemirror_mode": {
    "name": "ipython",
    "version": 3
   },
   "file_extension": ".py",
   "mimetype": "text/x-python",
   "name": "python",
   "nbconvert_exporter": "python",
   "pygments_lexer": "ipython3",
   "version": "3.7.3"
  }
 },
 "nbformat": 4,
 "nbformat_minor": 2
}
