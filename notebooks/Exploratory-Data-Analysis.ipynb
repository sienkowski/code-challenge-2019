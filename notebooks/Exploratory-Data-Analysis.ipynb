{
 "cells": [
  {
   "cell_type": "code",
   "execution_count": 47,
   "metadata": {},
   "outputs": [],
   "source": [
    "import pandas as pd\n",
    "import numpy as np\n",
    "import matplotlib.pyplot as plt\n",
    "import seaborn as sns\n",
    "\n",
    "\n",
    "from sklearn.feature_extraction.text import CountVectorizer\n",
    "from sklearn.feature_extraction.text import TfidfTransformer\n",
    "from sklearn.naive_bayes import MultinomialNB\n",
    "from sklearn.linear_model import LogisticRegression\n",
    "from sklearn.ensemble import RandomForestClassifier\n",
    "from sklearn.svm import LinearSVC\n",
    "\n",
    "from sklearn import metrics\n",
    "\n",
    "\n",
    "plt.figure(figsize=(20,10))\n",
    "%matplotlib inline\n",
    "\n",
    "import warnings\n",
    "warnings.filterwarnings('ignore');"
   ]
  },
  {
   "cell_type": "markdown",
   "metadata": {},
   "source": [
    "### Utility functions"
   ]
  },
  {
   "cell_type": "code",
   "execution_count": 54,
   "metadata": {},
   "outputs": [],
   "source": [
    "def percentage_empty(df):\n",
    "    return display_all(df.isnull().sum().sort_index()/len(df) *100)\n",
    "\n",
    "\n",
    "def dependent_column_to_categorical(df,column):\n",
    "    '''\n",
    "    https://www.wine-searcher.com/wine-scores\n",
    "    '''\n",
    "    if (df[column] >= 80) & (df[column] <= 84):\n",
    "        return \"Good\"\n",
    "    elif (df[column] >= 85) & (df[column] <= 89):\n",
    "        return \"Very good\"\n",
    "    elif (df[column] >= 90) & (df[column] <= 94):\n",
    "        return \"Outstanding\"\n",
    "    elif (df[column] >= 95) & (df[column] <= 100):\n",
    "        return \"Classic\"\n",
    "    \n",
    "\n",
    "def plot_var(df,feat):\n",
    "    sns.set(rc={'figure.figsize':(11.7,8.27)})\n",
    "    sns.countplot(x=feat,data=df)\n",
    "    return df.loc[:,feat].value_counts()"
   ]
  },
  {
   "cell_type": "code",
   "execution_count": 58,
   "metadata": {},
   "outputs": [],
   "source": [
    "datatypes = {\n",
    "    \"Unnamed: 0\":\"int64\",\n",
    "    \"country\":\"object\",\n",
    "    \"description\":\"object\",\n",
    "    \"designation\":\"object\",\n",
    "    \"points\":\"int64\",\n",
    "    \"price\":\"float64\",\n",
    "    \"province\":\"object\",\n",
    "    \"region_1\":\"object\",\n",
    "    \"region_2\":\"object\",\n",
    "    \"taster_name\":\"object\",\n",
    "    \"taster_twitter_handle\":\"object\",\n",
    "    \"title\":\"object\",\n",
    "    \"variety\":\"object\",\n",
    "    \"winery\":\"object\"\n",
    "}"
   ]
  },
  {
   "cell_type": "code",
   "execution_count": 59,
   "metadata": {
    "scrolled": true
   },
   "outputs": [],
   "source": [
    "df = pd.read_csv('../data_root/raw/wine_dataset.csv',dtype=datatypes)"
   ]
  },
  {
   "cell_type": "markdown",
   "metadata": {},
   "source": [
    "## Exploratory Data Analysis"
   ]
  },
  {
   "cell_type": "code",
   "execution_count": 60,
   "metadata": {},
   "outputs": [
    {
     "data": {
      "text/html": [
       "<div>\n",
       "<style scoped>\n",
       "    .dataframe tbody tr th:only-of-type {\n",
       "        vertical-align: middle;\n",
       "    }\n",
       "\n",
       "    .dataframe tbody tr th {\n",
       "        vertical-align: top;\n",
       "    }\n",
       "\n",
       "    .dataframe thead th {\n",
       "        text-align: right;\n",
       "    }\n",
       "</style>\n",
       "<table border=\"1\" class=\"dataframe\">\n",
       "  <thead>\n",
       "    <tr style=\"text-align: right;\">\n",
       "      <th></th>\n",
       "      <th>Unnamed: 0</th>\n",
       "      <th>country</th>\n",
       "      <th>description</th>\n",
       "      <th>designation</th>\n",
       "      <th>points</th>\n",
       "      <th>price</th>\n",
       "      <th>province</th>\n",
       "      <th>region_1</th>\n",
       "      <th>region_2</th>\n",
       "      <th>taster_name</th>\n",
       "      <th>taster_twitter_handle</th>\n",
       "      <th>title</th>\n",
       "      <th>variety</th>\n",
       "      <th>winery</th>\n",
       "    </tr>\n",
       "  </thead>\n",
       "  <tbody>\n",
       "    <tr>\n",
       "      <th>0</th>\n",
       "      <td>0</td>\n",
       "      <td>Italy</td>\n",
       "      <td>Fragrances suggest hay, crushed tomato vine an...</td>\n",
       "      <td>Kirchleiten</td>\n",
       "      <td>90</td>\n",
       "      <td>30.0</td>\n",
       "      <td>Northeastern Italy</td>\n",
       "      <td>Alto Adige</td>\n",
       "      <td>NaN</td>\n",
       "      <td>Kerin O’Keefe</td>\n",
       "      <td>@kerinokeefe</td>\n",
       "      <td>Tiefenbrunner 2012 Kirchleiten Sauvignon (Alto...</td>\n",
       "      <td>Sauvignon</td>\n",
       "      <td>Tiefenbrunner</td>\n",
       "    </tr>\n",
       "    <tr>\n",
       "      <th>1</th>\n",
       "      <td>1</td>\n",
       "      <td>France</td>\n",
       "      <td>Packed with fruit and crisp acidity, this is a...</td>\n",
       "      <td>NaN</td>\n",
       "      <td>87</td>\n",
       "      <td>22.0</td>\n",
       "      <td>Loire Valley</td>\n",
       "      <td>Sancerre</td>\n",
       "      <td>NaN</td>\n",
       "      <td>Roger Voss</td>\n",
       "      <td>@vossroger</td>\n",
       "      <td>Bernard Reverdy et Fils 2014 Rosé (Sancerre)</td>\n",
       "      <td>Rosé</td>\n",
       "      <td>Bernard Reverdy et Fils</td>\n",
       "    </tr>\n",
       "    <tr>\n",
       "      <th>2</th>\n",
       "      <td>2</td>\n",
       "      <td>Italy</td>\n",
       "      <td>This easy, ruby-red wine displays fresh berry ...</td>\n",
       "      <td>NaN</td>\n",
       "      <td>86</td>\n",
       "      <td>NaN</td>\n",
       "      <td>Tuscany</td>\n",
       "      <td>Chianti Classico</td>\n",
       "      <td>NaN</td>\n",
       "      <td>NaN</td>\n",
       "      <td>NaN</td>\n",
       "      <td>Dievole 2009  Chianti Classico</td>\n",
       "      <td>Sangiovese</td>\n",
       "      <td>Dievole</td>\n",
       "    </tr>\n",
       "  </tbody>\n",
       "</table>\n",
       "</div>"
      ],
      "text/plain": [
       "   Unnamed: 0 country                                        description  \\\n",
       "0           0   Italy  Fragrances suggest hay, crushed tomato vine an...   \n",
       "1           1  France  Packed with fruit and crisp acidity, this is a...   \n",
       "2           2   Italy  This easy, ruby-red wine displays fresh berry ...   \n",
       "\n",
       "   designation  points  price            province          region_1 region_2  \\\n",
       "0  Kirchleiten      90   30.0  Northeastern Italy        Alto Adige      NaN   \n",
       "1          NaN      87   22.0        Loire Valley          Sancerre      NaN   \n",
       "2          NaN      86    NaN             Tuscany  Chianti Classico      NaN   \n",
       "\n",
       "     taster_name taster_twitter_handle  \\\n",
       "0  Kerin O’Keefe          @kerinokeefe   \n",
       "1     Roger Voss            @vossroger   \n",
       "2            NaN                   NaN   \n",
       "\n",
       "                                               title     variety  \\\n",
       "0  Tiefenbrunner 2012 Kirchleiten Sauvignon (Alto...   Sauvignon   \n",
       "1       Bernard Reverdy et Fils 2014 Rosé (Sancerre)        Rosé   \n",
       "2                     Dievole 2009  Chianti Classico  Sangiovese   \n",
       "\n",
       "                    winery  \n",
       "0            Tiefenbrunner  \n",
       "1  Bernard Reverdy et Fils  \n",
       "2                  Dievole  "
      ]
     },
     "execution_count": 60,
     "metadata": {},
     "output_type": "execute_result"
    }
   ],
   "source": [
    "df.head(3)"
   ]
  },
  {
   "cell_type": "markdown",
   "metadata": {},
   "source": [
    "#### Number of unique Values in each column"
   ]
  },
  {
   "cell_type": "code",
   "execution_count": 27,
   "metadata": {},
   "outputs": [
    {
     "data": {
      "text/plain": [
       "Unnamed: 0               10000\n",
       "description               9942\n",
       "title                     9930\n",
       "winery                    5460\n",
       "designation               5381\n",
       "region_1                   724\n",
       "variety                    333\n",
       "province                   248\n",
       "price                      188\n",
       "country                     37\n",
       "points                      21\n",
       "taster_name                 18\n",
       "region_2                    17\n",
       "taster_twitter_handle       14\n",
       "dtype: int64"
      ]
     },
     "execution_count": 27,
     "metadata": {},
     "output_type": "execute_result"
    }
   ],
   "source": [
    "df.nunique().sort_values(ascending=False)"
   ]
  },
  {
   "cell_type": "markdown",
   "metadata": {},
   "source": [
    "#### Number of nan values in each column"
   ]
  },
  {
   "cell_type": "code",
   "execution_count": 28,
   "metadata": {},
   "outputs": [
    {
     "data": {
      "text/plain": [
       "region_2                 6147\n",
       "designation              2829\n",
       "taster_twitter_handle    2356\n",
       "taster_name              1985\n",
       "region_1                 1664\n",
       "price                     677\n",
       "province                    6\n",
       "country                     6\n",
       "winery                      0\n",
       "variety                     0\n",
       "title                       0\n",
       "points                      0\n",
       "description                 0\n",
       "Unnamed: 0                  0\n",
       "dtype: int64"
      ]
     },
     "execution_count": 28,
     "metadata": {},
     "output_type": "execute_result"
    }
   ],
   "source": [
    "df.isna().sum().sort_values(ascending=False)"
   ]
  },
  {
   "cell_type": "markdown",
   "metadata": {},
   "source": [
    "#### Percentage null"
   ]
  },
  {
   "cell_type": "code",
   "execution_count": 29,
   "metadata": {
    "scrolled": true
   },
   "outputs": [
    {
     "data": {
      "text/plain": [
       "Unnamed: 0                0.00\n",
       "country                   0.06\n",
       "description               0.00\n",
       "designation              28.29\n",
       "points                    0.00\n",
       "price                     6.77\n",
       "province                  0.06\n",
       "region_1                 16.64\n",
       "region_2                 61.47\n",
       "taster_name              19.85\n",
       "taster_twitter_handle    23.56\n",
       "title                     0.00\n",
       "variety                   0.00\n",
       "winery                    0.00\n",
       "dtype: float64"
      ]
     },
     "execution_count": 29,
     "metadata": {},
     "output_type": "execute_result"
    }
   ],
   "source": [
    "percentage_empty(df)"
   ]
  },
  {
   "cell_type": "markdown",
   "metadata": {},
   "source": [
    "#### Dropping some columns"
   ]
  },
  {
   "cell_type": "markdown",
   "metadata": {},
   "source": [
    "<p>designation - 28.3% of its values are null. It has 2829 unique values. </p>\n",
    " \n",
    "<p>province - has less than one value and 243 unique values</p>\n",
    "\n",
    "<p>region_2 - It has more than 60% empty column field</p>\n",
    "\n",
    "<p>region_1 - 724 unique values and 16% nan values</p>\n",
    "\n",
    "<p>winery - 54% of the values here are unique</p>\n",
    "\n",
    "<p>taster_name and taster_twitter_handle handle describe the same thing. However, There are more unique values in \n",
    "    taster_name column than taster_twitter_handle hence we'll drop taster_twitter_handle</p>\n"
   ]
  },
  {
   "cell_type": "code",
   "execution_count": 30,
   "metadata": {},
   "outputs": [],
   "source": [
    "columns_to_drop = ['Unnamed: 0','region_2','designation','taster_twitter_handle','region_1','province','winery']"
   ]
  },
  {
   "cell_type": "code",
   "execution_count": 31,
   "metadata": {},
   "outputs": [],
   "source": [
    "df.drop(columns_to_drop,axis=1,inplace=True)"
   ]
  },
  {
   "cell_type": "code",
   "execution_count": 32,
   "metadata": {},
   "outputs": [
    {
     "data": {
      "text/html": [
       "<div>\n",
       "<style scoped>\n",
       "    .dataframe tbody tr th:only-of-type {\n",
       "        vertical-align: middle;\n",
       "    }\n",
       "\n",
       "    .dataframe tbody tr th {\n",
       "        vertical-align: top;\n",
       "    }\n",
       "\n",
       "    .dataframe thead th {\n",
       "        text-align: right;\n",
       "    }\n",
       "</style>\n",
       "<table border=\"1\" class=\"dataframe\">\n",
       "  <thead>\n",
       "    <tr style=\"text-align: right;\">\n",
       "      <th></th>\n",
       "      <th>country</th>\n",
       "      <th>description</th>\n",
       "      <th>points</th>\n",
       "      <th>price</th>\n",
       "      <th>taster_name</th>\n",
       "      <th>title</th>\n",
       "      <th>variety</th>\n",
       "    </tr>\n",
       "  </thead>\n",
       "  <tbody>\n",
       "    <tr>\n",
       "      <th>0</th>\n",
       "      <td>Italy</td>\n",
       "      <td>Fragrances suggest hay, crushed tomato vine an...</td>\n",
       "      <td>90</td>\n",
       "      <td>30.0</td>\n",
       "      <td>Kerin O’Keefe</td>\n",
       "      <td>Tiefenbrunner 2012 Kirchleiten Sauvignon (Alto...</td>\n",
       "      <td>Sauvignon</td>\n",
       "    </tr>\n",
       "    <tr>\n",
       "      <th>1</th>\n",
       "      <td>France</td>\n",
       "      <td>Packed with fruit and crisp acidity, this is a...</td>\n",
       "      <td>87</td>\n",
       "      <td>22.0</td>\n",
       "      <td>Roger Voss</td>\n",
       "      <td>Bernard Reverdy et Fils 2014 Rosé (Sancerre)</td>\n",
       "      <td>Rosé</td>\n",
       "    </tr>\n",
       "    <tr>\n",
       "      <th>2</th>\n",
       "      <td>Italy</td>\n",
       "      <td>This easy, ruby-red wine displays fresh berry ...</td>\n",
       "      <td>86</td>\n",
       "      <td>NaN</td>\n",
       "      <td>NaN</td>\n",
       "      <td>Dievole 2009  Chianti Classico</td>\n",
       "      <td>Sangiovese</td>\n",
       "    </tr>\n",
       "    <tr>\n",
       "      <th>3</th>\n",
       "      <td>US</td>\n",
       "      <td>Pretty in violet and rose petals this is a low...</td>\n",
       "      <td>92</td>\n",
       "      <td>50.0</td>\n",
       "      <td>Virginie Boone</td>\n",
       "      <td>Davis Family 2012 Horseshoe Bend Vineyard Pino...</td>\n",
       "      <td>Pinot Noir</td>\n",
       "    </tr>\n",
       "    <tr>\n",
       "      <th>4</th>\n",
       "      <td>US</td>\n",
       "      <td>This golden wine confounds in a mix of wet sto...</td>\n",
       "      <td>93</td>\n",
       "      <td>38.0</td>\n",
       "      <td>Virginie Boone</td>\n",
       "      <td>Dutton-Goldfield 2013 Dutton Ranch Chardonnay ...</td>\n",
       "      <td>Chardonnay</td>\n",
       "    </tr>\n",
       "  </tbody>\n",
       "</table>\n",
       "</div>"
      ],
      "text/plain": [
       "  country                                        description  points  price  \\\n",
       "0   Italy  Fragrances suggest hay, crushed tomato vine an...      90   30.0   \n",
       "1  France  Packed with fruit and crisp acidity, this is a...      87   22.0   \n",
       "2   Italy  This easy, ruby-red wine displays fresh berry ...      86    NaN   \n",
       "3      US  Pretty in violet and rose petals this is a low...      92   50.0   \n",
       "4      US  This golden wine confounds in a mix of wet sto...      93   38.0   \n",
       "\n",
       "      taster_name                                              title  \\\n",
       "0   Kerin O’Keefe  Tiefenbrunner 2012 Kirchleiten Sauvignon (Alto...   \n",
       "1      Roger Voss       Bernard Reverdy et Fils 2014 Rosé (Sancerre)   \n",
       "2             NaN                     Dievole 2009  Chianti Classico   \n",
       "3  Virginie Boone  Davis Family 2012 Horseshoe Bend Vineyard Pino...   \n",
       "4  Virginie Boone  Dutton-Goldfield 2013 Dutton Ranch Chardonnay ...   \n",
       "\n",
       "      variety  \n",
       "0   Sauvignon  \n",
       "1        Rosé  \n",
       "2  Sangiovese  \n",
       "3  Pinot Noir  \n",
       "4  Chardonnay  "
      ]
     },
     "execution_count": 32,
     "metadata": {},
     "output_type": "execute_result"
    }
   ],
   "source": [
    "df.head()"
   ]
  },
  {
   "cell_type": "markdown",
   "metadata": {},
   "source": [
    "## Some Questions to explore"
   ]
  },
  {
   "cell_type": "markdown",
   "metadata": {},
   "source": [
    "#### 1.  Which wine variety gets the highest and lowest points averagely?"
   ]
  },
  {
   "cell_type": "code",
   "execution_count": 34,
   "metadata": {},
   "outputs": [],
   "source": [
    "df_group_by_score = df['points'].groupby(df['variety'])\n",
    "\n",
    "df_group_by_score.mean().sort_values(ascending=False)\n",
    "\n",
    "wine_with_highest_points_on_average = df_group_by_score.mean().sort_values(ascending=False)[:10]\n",
    "\n",
    "wine_with_lowest_points_on_average = df_group_by_score.mean().sort_values(ascending=True)[:10]"
   ]
  },
  {
   "cell_type": "code",
   "execution_count": 35,
   "metadata": {},
   "outputs": [
    {
     "data": {
      "text/plain": [
       "variety\n",
       "Scheurebe               94.000000\n",
       "Assyrtiko               93.000000\n",
       "Bual                    93.000000\n",
       "Trousseau Gris          93.000000\n",
       "Austrian white blend    93.000000\n",
       "Prugnolo Gentile        93.000000\n",
       "Picolit                 92.750000\n",
       "Alsace white blend      92.666667\n",
       "Shiraz-Viognier         92.400000\n",
       "Tinta Negra Mole        92.000000\n",
       "Name: points, dtype: float64"
      ]
     },
     "execution_count": 35,
     "metadata": {},
     "output_type": "execute_result"
    }
   ],
   "source": [
    "wine_with_highest_points_on_average"
   ]
  },
  {
   "cell_type": "code",
   "execution_count": 36,
   "metadata": {},
   "outputs": [
    {
     "data": {
      "text/plain": [
       "variety\n",
       "Vignoles                   80.0\n",
       "Chambourcin                80.0\n",
       "Tempranillo Blanco         81.0\n",
       "Tempranillo-Syrah          82.0\n",
       "Macabeo-Chardonnay         83.0\n",
       "Chelois                    83.0\n",
       "Garnacha-Syrah             83.0\n",
       "Sauvignon Blanc-Verdejo    83.0\n",
       "Cabernet Franc-Merlot      83.0\n",
       "Traminette                 83.0\n",
       "Name: points, dtype: float64"
      ]
     },
     "execution_count": 36,
     "metadata": {},
     "output_type": "execute_result"
    }
   ],
   "source": [
    "wine_with_lowest_points_on_average"
   ]
  },
  {
   "cell_type": "code",
   "execution_count": 42,
   "metadata": {},
   "outputs": [
    {
     "data": {
      "image/png": "[encoded data removed]",
      "text/plain": [
       "<Figure size 1080x720 with 1 Axes>"
      ]
     },
     "metadata": {},
     "output_type": "display_data"
    }
   ],
   "source": [
    "np.random.seed(42)\n",
    "\n",
    "fig, ax = plt.subplots(figsize=(15, 10))\n",
    "plt.style.use(\"seaborn\")\n",
    "\n",
    "x = list(wine_with_highest_points_on_average.to_dict().keys())\n",
    "\n",
    "y = list(wine_with_highest_points_on_average.to_dict().values())\n",
    "plot = plt.bar(x, y,label='Highest rated wine brand')\n",
    "plot[0].set_color('g')\n",
    "\n",
    "plt.legend()\n",
    "\n",
    "plt.title(\"Top 10 highest rated wine brands\")\n",
    "plt.xlabel(\"Wine brands\")\n",
    "plt.ylabel(\"Average points\")\n",
    "\n",
    "plt.tight_layout()\n",
    "\n",
    "plt.show()"
   ]
  },
  {
   "cell_type": "code",
   "execution_count": 44,
   "metadata": {},
   "outputs": [
    {
     "data": {
      "image/png": "[encoded data removed]",
      "text/plain": [
       "<Figure size 1080x720 with 1 Axes>"
      ]
     },
     "metadata": {},
     "output_type": "display_data"
    }
   ],
   "source": [
    "fig, ax = plt.subplots(figsize=(15,10))\n",
    "\n",
    "plt.style.use(\"seaborn\")\n",
    "\n",
    "x = list(wine_with_lowest_points_on_average.to_dict().keys())\n",
    "\n",
    "y = list(wine_with_lowest_points_on_average.to_dict().values())\n",
    "plot = plt.bar(x, y,label='Lowest rated wine brand')\n",
    "plot[0].set_color('r')\n",
    "\n",
    "plt.legend()\n",
    "\n",
    "plt.title(\"Top 10 lowest rated wine brands\")\n",
    "plt.xlabel(\"Wine brands\")\n",
    "plt.ylabel(\"Average points\")\n",
    "\n",
    "plt.tight_layout()\n",
    "\n",
    "plt.show()"
   ]
  },
  {
   "cell_type": "markdown",
   "metadata": {},
   "source": [
    "#### 2.  Which tasters gave the most generous points?"
   ]
  },
  {
   "cell_type": "code",
   "execution_count": 46,
   "metadata": {},
   "outputs": [
    {
     "data": {
      "text/plain": [
       "taster_name\n",
       "Anne Krebiehl MW      90.491525\n",
       "Matt Kettmann         90.032468\n",
       "Mike DeSimone         89.450000\n",
       "Virginie Boone        89.222531\n",
       "Paul Gregutt          89.148594\n",
       "Kerin O’Keefe         88.890825\n",
       "Roger Voss            88.754601\n",
       "Jim Gordon            88.618462\n",
       "Joe Czerwinski        88.575130\n",
       "Sean P. Sullivan      88.567867\n",
       "Anna Lee C. Iijima    88.352239\n",
       "Jeff Jenssen          88.325581\n",
       "Lauren Buzzeo         87.596154\n",
       "Fiona Adams           87.000000\n",
       "Susan Kostrzewa       86.850000\n",
       "Michael Schachner     86.822020\n",
       "Carrie Dykes          86.800000\n",
       "Alexander Peartree    86.461538\n",
       "Name: points, dtype: float64"
      ]
     },
     "execution_count": 46,
     "metadata": {},
     "output_type": "execute_result"
    }
   ],
   "source": [
    "df_group_by_score = df['points'].groupby(df['taster_name'])\n",
    "\n",
    "highest_tasters = df_group_by_score.mean().sort_values(ascending=False)\n",
    "highest_tasters"
   ]
  },
  {
   "cell_type": "markdown",
   "metadata": {},
   "source": [
    "#### 3.  What is the relationship between Prices of wine and points"
   ]
  },
  {
   "cell_type": "code",
   "execution_count": 48,
   "metadata": {},
   "outputs": [
    {
     "data": {
      "text/html": [
       "<div>\n",
       "<style scoped>\n",
       "    .dataframe tbody tr th:only-of-type {\n",
       "        vertical-align: middle;\n",
       "    }\n",
       "\n",
       "    .dataframe tbody tr th {\n",
       "        vertical-align: top;\n",
       "    }\n",
       "\n",
       "    .dataframe thead th {\n",
       "        text-align: right;\n",
       "    }\n",
       "</style>\n",
       "<table border=\"1\" class=\"dataframe\">\n",
       "  <thead>\n",
       "    <tr style=\"text-align: right;\">\n",
       "      <th></th>\n",
       "      <th>country</th>\n",
       "      <th>description</th>\n",
       "      <th>points</th>\n",
       "      <th>price</th>\n",
       "      <th>taster_name</th>\n",
       "      <th>title</th>\n",
       "      <th>variety</th>\n",
       "    </tr>\n",
       "  </thead>\n",
       "  <tbody>\n",
       "    <tr>\n",
       "      <th>0</th>\n",
       "      <td>Italy</td>\n",
       "      <td>Fragrances suggest hay, crushed tomato vine an...</td>\n",
       "      <td>90</td>\n",
       "      <td>30.0</td>\n",
       "      <td>Kerin O’Keefe</td>\n",
       "      <td>Tiefenbrunner 2012 Kirchleiten Sauvignon (Alto...</td>\n",
       "      <td>Sauvignon</td>\n",
       "    </tr>\n",
       "  </tbody>\n",
       "</table>\n",
       "</div>"
      ],
      "text/plain": [
       "  country                                        description  points  price  \\\n",
       "0   Italy  Fragrances suggest hay, crushed tomato vine an...      90   30.0   \n",
       "\n",
       "     taster_name                                              title    variety  \n",
       "0  Kerin O’Keefe  Tiefenbrunner 2012 Kirchleiten Sauvignon (Alto...  Sauvignon  "
      ]
     },
     "execution_count": 48,
     "metadata": {},
     "output_type": "execute_result"
    }
   ],
   "source": [
    "df.head(1)"
   ]
  },
  {
   "cell_type": "code",
   "execution_count": 49,
   "metadata": {},
   "outputs": [
    {
     "data": {
      "text/plain": [
       "(9323, 2)"
      ]
     },
     "execution_count": 49,
     "metadata": {},
     "output_type": "execute_result"
    }
   ],
   "source": [
    "df_price_points_relationship = df[['price','points']]\n",
    "df_price_points_relationship.isna().sum()\n",
    "\n",
    "df_price_points_relationship.dropna(inplace=True)\n",
    "df_price_points_relationship.shape"
   ]
  },
  {
   "cell_type": "code",
   "execution_count": 50,
   "metadata": {
    "scrolled": false
   },
   "outputs": [
    {
     "data": {
      "image/png": "[encoded data removed]",
      "text/plain": [
       "<Figure size 1080x720 with 1 Axes>"
      ]
     },
     "metadata": {
      "needs_background": "light"
     },
     "output_type": "display_data"
    }
   ],
   "source": [
    "np.random.seed(42)\n",
    "fig, ax = plt.subplots(figsize=(15,10))\n",
    "\n",
    "plt.style.use(\"seaborn\")\n",
    "\n",
    "x = df_price_points_relationship['price']\n",
    "y = df_price_points_relationship['points']\n",
    "\n",
    "\n",
    "plt.scatter(x, y)\n",
    "\n",
    "plt.title('Relationship between price and point')\n",
    "plt.xlabel('Price')\n",
    "plt.ylabel('Points')\n",
    "\n",
    "plt.tight_layout()\n",
    "plt.show()"
   ]
  },
  {
   "cell_type": "markdown",
   "metadata": {},
   "source": [
    "<p>There is a high concentration low priced high point wine. The points doesn't necessarily depend on the price. There are low priced wine that has really high points. In fact,\n",
    "wine with the highest points weren't the most pricy.</p>"
   ]
  },
  {
   "cell_type": "markdown",
   "metadata": {},
   "source": [
    "### Distribution of values in dependent column"
   ]
  },
  {
   "cell_type": "code",
   "execution_count": 52,
   "metadata": {},
   "outputs": [],
   "source": [
    "df[\"points\"] = df.apply(lambda df:dependent_column_to_categorical(df,\"points\"),\n",
    "                                      axis = 1)"
   ]
  },
  {
   "cell_type": "code",
   "execution_count": 55,
   "metadata": {},
   "outputs": [
    {
     "data": {
      "text/plain": [
       "Very good      5243\n",
       "Outstanding    3626\n",
       "Good            961\n",
       "Classic         170\n",
       "Name: points, dtype: int64"
      ]
     },
     "execution_count": 55,
     "metadata": {},
     "output_type": "execute_result"
    },
    {
     "data": {
      "image/png": "[encoded data removed]",
      "text/plain": [
       "<Figure size 842.4x595.44 with 1 Axes>"
      ]
     },
     "metadata": {},
     "output_type": "display_data"
    }
   ],
   "source": [
    "plot_var(df,feat='points')"
   ]
  },
  {
   "cell_type": "markdown",
   "metadata": {},
   "source": [
    "<p>There is a huge imbalance between 'Very good','Good' and 'Classic'. I expect this to affect the predictability\n",
    "of the algorithm</p>\n",
    "\n",
    "<p>This can however be addressed using the <b>synthetic minority over sampling technique</b>. Check <a href=\"https://arxiv.org/pdf/1106.1813.pdf\">here</a>"
   ]
  },
  {
   "cell_type": "code",
   "execution_count": null,
   "metadata": {},
   "outputs": [],
   "source": []
  }
 ],
 "metadata": {
  "kernelspec": {
   "display_name": "Python 3",
   "language": "python",
   "name": "python3"
  },
  "language_info": {
   "codemirror_mode": {
    "name": "ipython",
    "version": 3
   },
   "file_extension": ".py",
   "mimetype": "text/x-python",
   "name": "python",
   "nbconvert_exporter": "python",
   "pygments_lexer": "ipython3",
   "version": "3.7.3"
  }
 },
 "nbformat": 4,
 "nbformat_minor": 2
}
