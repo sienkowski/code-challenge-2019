{
 "cells": [
  {
   "cell_type": "code",
   "execution_count": 2,
   "metadata": {},
   "outputs": [
    {
     "name": "stdout",
     "output_type": "stream",
     "text": [
      "done!\n"
     ]
    }
   ],
   "source": [
    "from pathlib import Path\n",
    "import pandas as pd\n",
    "from sklearn.ensemble import RandomForestClassifier\n",
    "from sklearn.metrics import accuracy_score\n",
    "# from sklearn.preprocessing import OneHotEncoder\n",
    "from sklearn.model_selection import train_test_split\n",
    "import click\n",
    "def _save_datasets(X_train, X_test, y_train, y_test, outdir: Path):\n",
    "    \"\"\"Save data sets into nice directory structure and write SUCCESS flag.\"\"\"\n",
    "    out_X_train = outdir / 'X_train.csv'\n",
    "    out_X_test = outdir / 'X_test.csv'\n",
    "    out_y_train = outdir / 'y_train.csv'\n",
    "    out_y_test = outdir / 'y_test.csv'\n",
    "    flag = outdir / '.SUCCESS'\n",
    "    y_train.columns = ['rating']\n",
    "    y_test.columns =['rating']\n",
    "    X_train.to_csv(out_X_train, index=False)\n",
    "    X_test.to_csv(out_X_test, index=False)\n",
    "    y_train.to_csv(out_y_train, index=False, header=['rating'])\n",
    "    y_test.to_csv(out_y_test, index=False, header=['rating'] )\n",
    "    print('done!')\n",
    "\n",
    "    flag.touch()\n",
    "\n",
    "\n",
    "\n",
    "\n",
    "# @click.command()\n",
    "# @click.option('--in-csv')\n",
    "# @click.option('--out-dir')\n",
    "def make_datasets(in_csv, out_dir):\n",
    "    out_dir = Path(out_dir)\n",
    "    out_dir.mkdir(parents=True, exist_ok=True)\n",
    "\n",
    "    # Connect to the dask cluster\n",
    "#     c = Client('dask-scheduler:8786')\n",
    "\n",
    "    # load data as a dask Dataframe if you have trouble with dask\n",
    "    # please fall back to pandas or numpy\n",
    "    df = pd.read_csv(in_csv)\n",
    "\n",
    "    # we set the index so we can properly execute loc below\n",
    "#     df = df.set_index('Unnamed: 0')\n",
    "\n",
    "    df = df.drop(['Unnamed: 0', 'description', 'designation', 'taster_twitter_handle', 'title'], axis=1)\n",
    "    df['country'] = df.country.where(df.country=='', 'US')\n",
    "\n",
    "    df['price'] = df.price.where(df.price=='', df['price'].mean())\n",
    "    df['region_1'] = df. region_1.where(df.region_1=='', 'Napa Valley')\n",
    "    df['region_2'] = df.region_2.where(df.region_2=='', 'Central Coast')\n",
    "    df['province'] = df.province.where(df.province=='', 'California')\n",
    "    df['taster_name'] = df.taster_name.where(df.taster_name=='', 'Roger Voss')\n",
    "    \n",
    "    df['rating']=0\n",
    "    \n",
    "    df.loc[(df['points']<86), 'rating'] = 1\n",
    "    df.loc[(df['points']>=86) & (df['points']<91), 'rating'] = 2\n",
    "    df.loc[(df['points']>=91) & (df['points']<96), 'rating'] = 3\n",
    "    df.loc[(df['points']>=96), 'rating'] = 4\n",
    "\n",
    "#     cols = list(df.columns)\n",
    "#     a, b = cols.index('points'), cols.index('winery')\n",
    "#     cols[b], cols[a] = cols[a], cols[b]\n",
    "#     df = df[cols]\n",
    "\n",
    "    X = df[:].drop(['rating'], axis=1)\n",
    "    X= pd.get_dummies(X)\n",
    "    y= df['rating']\n",
    "\n",
    "    X_train, X_test, y_train, y_test = train_test_split(X, y, test_size=0.30, random_state=42)\n",
    "\n",
    "    _save_datasets(X_train, X_test, y_train, y_test, Path('new_dir'))\n",
    "    \n",
    "\n",
    "\n",
    "if __name__ == '__main__':\n",
    "    make_datasets('wine_dataset.csv', 'new_dir')\n"
   ]
  },
  {
   "cell_type": "code",
   "execution_count": 4,
   "metadata": {},
   "outputs": [
    {
     "name": "stderr",
     "output_type": "stream",
     "text": [
      "/Users/oluwasogo/mlvenv/lib/python3.7/site-packages/ipykernel_launcher.py:26: DataConversionWarning: A column-vector y was passed when a 1d array was expected. Please change the shape of y to (n_samples,), for example using ravel().\n"
     ]
    }
   ],
   "source": [
    "from sklearn.ensemble import RandomForestClassifier\n",
    "from sklearn.metrics import accuracy_score\n",
    "from sklearn.preprocessing import OneHotEncoder\n",
    "from sklearn.model_selection import train_test_split\n",
    "import numpy as np\n",
    "\n",
    "from joblib import dump\n",
    "# @click.command()\n",
    "# @click.option('--X-train')\n",
    "# @click.option('--y-train')\n",
    "# @click.option('--out-dir')\n",
    "def train_data(X_train,X_test, y_train, y_test, outdir):\n",
    "    outdir = Path(outdir)\n",
    "    X_train = pd.read_csv(str(outdir / X_train))\n",
    "#     X_test = pd.read_csv(str(outdir / X_test))\n",
    "    y_train = pd.read_csv(str(outdir / y_train))\n",
    "    \n",
    "    \n",
    "#     X_train = pd.get_dummies(X_train)\n",
    "#     y_test = pd.read_csv(str(outdir / y_test))\n",
    "    \n",
    "#     enc = OneHotEncoder(handle_unknown='ignore')\n",
    "#     X_train = enc.fit_transform(X_train)\n",
    "#     X_test = enc.fit_transform(X_test.reshape(1, -1))\n",
    "    rfc = RandomForestClassifier(n_estimators=100)\n",
    "    rfc.fit(X_train, y_train)\n",
    "    dump(rfc, 'model.joblib')\n",
    "train_data('X_train.csv','X_test.csv', 'y_train.csv', 'y_test.csv', 'new_dir')"
   ]
  },
  {
   "cell_type": "code",
   "execution_count": 5,
   "metadata": {},
   "outputs": [
    {
     "name": "stdout",
     "output_type": "stream",
     "text": [
      "              precision    recall  f1-score   support\n",
      "\n",
      "           1       1.00      1.00      1.00       492\n",
      "           2       1.00      1.00      1.00      1736\n",
      "           3       0.99      1.00      0.99       753\n",
      "           4       1.00      0.58      0.73        19\n",
      "\n",
      "   micro avg       1.00      1.00      1.00      3000\n",
      "   macro avg       1.00      0.89      0.93      3000\n",
      "weighted avg       1.00      1.00      1.00      3000\n",
      "\n",
      "---------\n",
      "[[ 492    0    0    0]\n",
      " [   2 1734    0    0]\n",
      " [   0    0  753    0]\n",
      " [   0    0    8   11]]\n",
      "----------\n",
      "0.9966666666666667\n"
     ]
    },
    {
     "data": {
      "image/png": "[encoded data removed]",
      "text/plain": [
       "<Figure size 720x504 with 2 Axes>"
      ]
     },
     "metadata": {
      "needs_background": "light"
     },
     "output_type": "display_data"
    }
   ],
   "source": [
    "from joblib import load\n",
    "from sklearn.metrics import accuracy_score, classification_report, confusion_matrix, roc_auc_score\n",
    "import matplotlib.pyplot as plt\n",
    "import seaborn as sns\n",
    "# @click.command()\n",
    "# @click.option('--X-test')\n",
    "# @click.option('--y-test')\n",
    "# @click.option('--pickle')\n",
    "# @click.option('--out-dir')\n",
    "X_test = ('X_test.csv')\n",
    "y_test = ('y_test.csv')\n",
    "def evaluate_model(X_test, y_test, model, out_dir):\n",
    "        out_dir = Path(out_dir)\n",
    "        X_test = pd.read_csv(out_dir / X_test)\n",
    "        y_test = pd.read_csv(out_dir / y_test)\n",
    "        model = load(model)\n",
    "#         X_test = pd.get_dummies(X_test)\n",
    "        prediction = model.predict(X_test)\n",
    "        score = accuracy_score(prediction, y_test)\n",
    "        print(classification_report(y_test, prediction))\n",
    "        print('---------')\n",
    "        print(confusion_matrix(y_test, prediction))\n",
    "        print('----------')\n",
    "        print(score)\n",
    "        \n",
    "        data = confusion_matrix(y_test, prediction)\n",
    "        pd.set_option('display.float_format', lambda x: '%.3f' % x)\n",
    "        df_cm = pd.DataFrame(data, columns=np.unique(y_test), index = np.unique(y_test))\n",
    "        df_cm.index.name = 'Actual'\n",
    "        df_cm.columns.name = 'Predicted'\n",
    "        \n",
    "        \n",
    "        plt.figure(figsize = (10,7))\n",
    "        plt.title('Accuracy Score is: {} %'.format(round(score*100, 3)))\n",
    "        sns.set(font_scale=1.4)#for label size\n",
    "        sns.heatmap(df_cm, cmap=\"Blues\", annot=True,annot_kws={\"size\": 16})\n",
    "        plt.savefig('comfusion_matrix.png')\n",
    "        \n",
    "evaluate_model(X_test, y_test,'model.joblib', 'new_dir')"
   ]
  },
  {
   "cell_type": "code",
   "execution_count": 27,
   "metadata": {},
   "outputs": [
    {
     "name": "stdout",
     "output_type": "stream",
     "text": [
      "Requirement already satisfied: joblib in /Users/oluwasogo/mlvenv/lib/python3.7/site-packages (0.13.2)\n"
     ]
    }
   ],
   "source": []
  },
  {
   "cell_type": "code",
   "execution_count": null,
   "metadata": {},
   "outputs": [],
   "source": []
  },
  {
   "cell_type": "code",
   "execution_count": null,
   "metadata": {},
   "outputs": [],
   "source": []
  }
 ],
 "metadata": {
  "kernelspec": {
   "display_name": "Python 3",
   "language": "python",
   "name": "python3"
  },
  "language_info": {
   "codemirror_mode": {
    "name": "ipython",
    "version": 3
   },
   "file_extension": ".py",
   "mimetype": "text/x-python",
   "name": "python",
   "nbconvert_exporter": "python",
   "pygments_lexer": "ipython3",
   "version": "3.7.3"
  }
 },
 "nbformat": 4,
 "nbformat_minor": 2
}
